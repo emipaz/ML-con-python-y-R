{
 "cells": [
  {
   "cell_type": "markdown",
   "metadata": {},
   "source": [
    "# Plantilla para el Pre Procesado de Datos\n"
   ]
  },
  {
   "cell_type": "code",
   "execution_count": 1,
   "metadata": {
    "vscode": {
     "languageId": "r"
    }
   },
   "outputs": [],
   "source": [
    "dataset = read.csv('Data.csv')\n"
   ]
  },
  {
   "cell_type": "code",
   "execution_count": 2,
   "metadata": {
    "vscode": {
     "languageId": "r"
    }
   },
   "outputs": [
    {
     "data": {
      "text/html": [
       "<table class=\"dataframe\">\n",
       "<caption>A data.frame: 10 × 4</caption>\n",
       "<thead>\n",
       "\t<tr><th scope=col>Country</th><th scope=col>Age</th><th scope=col>Salary</th><th scope=col>Purchased</th></tr>\n",
       "\t<tr><th scope=col>&lt;chr&gt;</th><th scope=col>&lt;int&gt;</th><th scope=col>&lt;int&gt;</th><th scope=col>&lt;chr&gt;</th></tr>\n",
       "</thead>\n",
       "<tbody>\n",
       "\t<tr><td>France </td><td>44</td><td>72000</td><td>No </td></tr>\n",
       "\t<tr><td>Spain  </td><td>27</td><td>48000</td><td>Yes</td></tr>\n",
       "\t<tr><td>Germany</td><td>30</td><td>54000</td><td>No </td></tr>\n",
       "\t<tr><td>Spain  </td><td>38</td><td>61000</td><td>No </td></tr>\n",
       "\t<tr><td>Germany</td><td>40</td><td>   NA</td><td>Yes</td></tr>\n",
       "\t<tr><td>France </td><td>35</td><td>58000</td><td>Yes</td></tr>\n",
       "\t<tr><td>Spain  </td><td>NA</td><td>52000</td><td>No </td></tr>\n",
       "\t<tr><td>France </td><td>48</td><td>79000</td><td>Yes</td></tr>\n",
       "\t<tr><td>Germany</td><td>50</td><td>83000</td><td>No </td></tr>\n",
       "\t<tr><td>France </td><td>37</td><td>67000</td><td>Yes</td></tr>\n",
       "</tbody>\n",
       "</table>\n"
      ],
      "text/latex": [
       "A data.frame: 10 × 4\n",
       "\\begin{tabular}{llll}\n",
       " Country & Age & Salary & Purchased\\\\\n",
       " <chr> & <int> & <int> & <chr>\\\\\n",
       "\\hline\n",
       "\t France  & 44 & 72000 & No \\\\\n",
       "\t Spain   & 27 & 48000 & Yes\\\\\n",
       "\t Germany & 30 & 54000 & No \\\\\n",
       "\t Spain   & 38 & 61000 & No \\\\\n",
       "\t Germany & 40 &    NA & Yes\\\\\n",
       "\t France  & 35 & 58000 & Yes\\\\\n",
       "\t Spain   & NA & 52000 & No \\\\\n",
       "\t France  & 48 & 79000 & Yes\\\\\n",
       "\t Germany & 50 & 83000 & No \\\\\n",
       "\t France  & 37 & 67000 & Yes\\\\\n",
       "\\end{tabular}\n"
      ],
      "text/markdown": [
       "\n",
       "A data.frame: 10 × 4\n",
       "\n",
       "| Country &lt;chr&gt; | Age &lt;int&gt; | Salary &lt;int&gt; | Purchased &lt;chr&gt; |\n",
       "|---|---|---|---|\n",
       "| France  | 44 | 72000 | No  |\n",
       "| Spain   | 27 | 48000 | Yes |\n",
       "| Germany | 30 | 54000 | No  |\n",
       "| Spain   | 38 | 61000 | No  |\n",
       "| Germany | 40 |    NA | Yes |\n",
       "| France  | 35 | 58000 | Yes |\n",
       "| Spain   | NA | 52000 | No  |\n",
       "| France  | 48 | 79000 | Yes |\n",
       "| Germany | 50 | 83000 | No  |\n",
       "| France  | 37 | 67000 | Yes |\n",
       "\n"
      ],
      "text/plain": [
       "   Country Age Salary Purchased\n",
       "1  France  44  72000  No       \n",
       "2  Spain   27  48000  Yes      \n",
       "3  Germany 30  54000  No       \n",
       "4  Spain   38  61000  No       \n",
       "5  Germany 40     NA  Yes      \n",
       "6  France  35  58000  Yes      \n",
       "7  Spain   NA  52000  No       \n",
       "8  France  48  79000  Yes      \n",
       "9  Germany 50  83000  No       \n",
       "10 France  37  67000  Yes      "
      ]
     },
     "metadata": {},
     "output_type": "display_data"
    }
   ],
   "source": [
    "dataset"
   ]
  },
  {
   "cell_type": "code",
   "execution_count": 3,
   "metadata": {
    "vscode": {
     "languageId": "r"
    }
   },
   "outputs": [],
   "source": [
    "dataset_1 <- dataset[, 2:3]"
   ]
  },
  {
   "cell_type": "code",
   "execution_count": 4,
   "metadata": {
    "vscode": {
     "languageId": "r"
    }
   },
   "outputs": [
    {
     "data": {
      "text/html": [
       "<table class=\"dataframe\">\n",
       "<caption>A data.frame: 10 × 2</caption>\n",
       "<thead>\n",
       "\t<tr><th scope=col>Age</th><th scope=col>Salary</th></tr>\n",
       "\t<tr><th scope=col>&lt;int&gt;</th><th scope=col>&lt;int&gt;</th></tr>\n",
       "</thead>\n",
       "<tbody>\n",
       "\t<tr><td>44</td><td>72000</td></tr>\n",
       "\t<tr><td>27</td><td>48000</td></tr>\n",
       "\t<tr><td>30</td><td>54000</td></tr>\n",
       "\t<tr><td>38</td><td>61000</td></tr>\n",
       "\t<tr><td>40</td><td>   NA</td></tr>\n",
       "\t<tr><td>35</td><td>58000</td></tr>\n",
       "\t<tr><td>NA</td><td>52000</td></tr>\n",
       "\t<tr><td>48</td><td>79000</td></tr>\n",
       "\t<tr><td>50</td><td>83000</td></tr>\n",
       "\t<tr><td>37</td><td>67000</td></tr>\n",
       "</tbody>\n",
       "</table>\n"
      ],
      "text/latex": [
       "A data.frame: 10 × 2\n",
       "\\begin{tabular}{ll}\n",
       " Age & Salary\\\\\n",
       " <int> & <int>\\\\\n",
       "\\hline\n",
       "\t 44 & 72000\\\\\n",
       "\t 27 & 48000\\\\\n",
       "\t 30 & 54000\\\\\n",
       "\t 38 & 61000\\\\\n",
       "\t 40 &    NA\\\\\n",
       "\t 35 & 58000\\\\\n",
       "\t NA & 52000\\\\\n",
       "\t 48 & 79000\\\\\n",
       "\t 50 & 83000\\\\\n",
       "\t 37 & 67000\\\\\n",
       "\\end{tabular}\n"
      ],
      "text/markdown": [
       "\n",
       "A data.frame: 10 × 2\n",
       "\n",
       "| Age &lt;int&gt; | Salary &lt;int&gt; |\n",
       "|---|---|\n",
       "| 44 | 72000 |\n",
       "| 27 | 48000 |\n",
       "| 30 | 54000 |\n",
       "| 38 | 61000 |\n",
       "| 40 |    NA |\n",
       "| 35 | 58000 |\n",
       "| NA | 52000 |\n",
       "| 48 | 79000 |\n",
       "| 50 | 83000 |\n",
       "| 37 | 67000 |\n",
       "\n"
      ],
      "text/plain": [
       "   Age Salary\n",
       "1  44  72000 \n",
       "2  27  48000 \n",
       "3  30  54000 \n",
       "4  38  61000 \n",
       "5  40     NA \n",
       "6  35  58000 \n",
       "7  NA  52000 \n",
       "8  48  79000 \n",
       "9  50  83000 \n",
       "10 37  67000 "
      ]
     },
     "metadata": {},
     "output_type": "display_data"
    }
   ],
   "source": [
    "dataset_1 "
   ]
  },
  {
   "cell_type": "code",
   "execution_count": 6,
   "metadata": {
    "vscode": {
     "languageId": "r"
    }
   },
   "outputs": [
    {
     "name": "stderr",
     "output_type": "stream",
     "text": [
      "Installing package into ‘/home/emi/R/x86_64-pc-linux-gnu-library/4.3’\n",
      "(as ‘lib’ is unspecified)\n",
      "\n",
      "also installing the dependency ‘bitops’\n",
      "\n",
      "\n"
     ]
    }
   ],
   "source": [
    "install.packages(\"caTools\")"
   ]
  },
  {
   "cell_type": "code",
   "execution_count": 8,
   "metadata": {
    "vscode": {
     "languageId": "r"
    }
   },
   "outputs": [],
   "source": [
    "library(caTools)\n",
    "set.seed(123)\n",
    "split        = sample.split(dataset$Purchased, SplitRatio = 0.8)\n",
    "training_set = subset(dataset, split == TRUE)\n",
    "testing_set  = subset(dataset, split == FALSE)\n"
   ]
  },
  {
   "cell_type": "code",
   "execution_count": 15,
   "metadata": {
    "vscode": {
     "languageId": "r"
    }
   },
   "outputs": [
    {
     "name": "stdout",
     "output_type": "stream",
     "text": [
      "[1] 8 4\n",
      "[1] 2 4\n"
     ]
    }
   ],
   "source": [
    "print(dim(training_set))\n",
    "print(dim(testing_set))"
   ]
  },
  {
   "cell_type": "markdown",
   "metadata": {},
   "source": [
    "## Escalado de valores\n"
   ]
  },
  {
   "cell_type": "code",
   "execution_count": 16,
   "metadata": {
    "vscode": {
     "languageId": "r"
    }
   },
   "outputs": [],
   "source": [
    "training_set[,2:3] = scale(training_set[,2:3])\n",
    "testing_set[,2:3]  = scale(testing_set[,2:3])"
   ]
  },
  {
   "cell_type": "code",
   "execution_count": 17,
   "metadata": {
    "vscode": {
     "languageId": "r"
    }
   },
   "outputs": [
    {
     "data": {
      "text/html": [
       "<table class=\"dataframe\">\n",
       "<caption>A data.frame: 8 × 4</caption>\n",
       "<thead>\n",
       "\t<tr><th></th><th scope=col>Country</th><th scope=col>Age</th><th scope=col>Salary</th><th scope=col>Purchased</th></tr>\n",
       "\t<tr><th></th><th scope=col>&lt;chr&gt;</th><th scope=col>&lt;dbl&gt;</th><th scope=col>&lt;dbl&gt;</th><th scope=col>&lt;chr&gt;</th></tr>\n",
       "</thead>\n",
       "<tbody>\n",
       "\t<tr><th scope=row>1</th><td>France </td><td> 0.85349783</td><td> 0.89253471</td><td>No </td></tr>\n",
       "\t<tr><th scope=row>2</th><td>Spain  </td><td>-1.45482585</td><td>-1.21937840</td><td>Yes</td></tr>\n",
       "\t<tr><th scope=row>3</th><td>Germany</td><td>-1.04747461</td><td>-0.69140013</td><td>No </td></tr>\n",
       "\t<tr><th scope=row>4</th><td>Spain  </td><td> 0.03879536</td><td>-0.07542547</td><td>No </td></tr>\n",
       "\t<tr><th scope=row>5</th><td>Germany</td><td> 0.31036285</td><td>         NA</td><td>Yes</td></tr>\n",
       "\t<tr><th scope=row>7</th><td>Spain  </td><td>         NA</td><td>-0.86739289</td><td>No </td></tr>\n",
       "\t<tr><th scope=row>8</th><td>France </td><td> 1.39663281</td><td> 1.50850937</td><td>Yes</td></tr>\n",
       "\t<tr><th scope=row>10</th><td>France </td><td>-0.09698839</td><td> 0.45255281</td><td>Yes</td></tr>\n",
       "</tbody>\n",
       "</table>\n"
      ],
      "text/latex": [
       "A data.frame: 8 × 4\n",
       "\\begin{tabular}{r|llll}\n",
       "  & Country & Age & Salary & Purchased\\\\\n",
       "  & <chr> & <dbl> & <dbl> & <chr>\\\\\n",
       "\\hline\n",
       "\t1 & France  &  0.85349783 &  0.89253471 & No \\\\\n",
       "\t2 & Spain   & -1.45482585 & -1.21937840 & Yes\\\\\n",
       "\t3 & Germany & -1.04747461 & -0.69140013 & No \\\\\n",
       "\t4 & Spain   &  0.03879536 & -0.07542547 & No \\\\\n",
       "\t5 & Germany &  0.31036285 &          NA & Yes\\\\\n",
       "\t7 & Spain   &          NA & -0.86739289 & No \\\\\n",
       "\t8 & France  &  1.39663281 &  1.50850937 & Yes\\\\\n",
       "\t10 & France  & -0.09698839 &  0.45255281 & Yes\\\\\n",
       "\\end{tabular}\n"
      ],
      "text/markdown": [
       "\n",
       "A data.frame: 8 × 4\n",
       "\n",
       "| <!--/--> | Country &lt;chr&gt; | Age &lt;dbl&gt; | Salary &lt;dbl&gt; | Purchased &lt;chr&gt; |\n",
       "|---|---|---|---|---|\n",
       "| 1 | France  |  0.85349783 |  0.89253471 | No  |\n",
       "| 2 | Spain   | -1.45482585 | -1.21937840 | Yes |\n",
       "| 3 | Germany | -1.04747461 | -0.69140013 | No  |\n",
       "| 4 | Spain   |  0.03879536 | -0.07542547 | No  |\n",
       "| 5 | Germany |  0.31036285 |          NA | Yes |\n",
       "| 7 | Spain   |          NA | -0.86739289 | No  |\n",
       "| 8 | France  |  1.39663281 |  1.50850937 | Yes |\n",
       "| 10 | France  | -0.09698839 |  0.45255281 | Yes |\n",
       "\n"
      ],
      "text/plain": [
       "   Country Age         Salary      Purchased\n",
       "1  France   0.85349783  0.89253471 No       \n",
       "2  Spain   -1.45482585 -1.21937840 Yes      \n",
       "3  Germany -1.04747461 -0.69140013 No       \n",
       "4  Spain    0.03879536 -0.07542547 No       \n",
       "5  Germany  0.31036285          NA Yes      \n",
       "7  Spain            NA -0.86739289 No       \n",
       "8  France   1.39663281  1.50850937 Yes      \n",
       "10 France  -0.09698839  0.45255281 Yes      "
      ]
     },
     "metadata": {},
     "output_type": "display_data"
    }
   ],
   "source": [
    "training_set"
   ]
  },
  {
   "cell_type": "code",
   "execution_count": 18,
   "metadata": {
    "vscode": {
     "languageId": "r"
    }
   },
   "outputs": [
    {
     "data": {
      "text/html": [
       "<table class=\"dataframe\">\n",
       "<caption>A data.frame: 2 × 4</caption>\n",
       "<thead>\n",
       "\t<tr><th></th><th scope=col>Country</th><th scope=col>Age</th><th scope=col>Salary</th><th scope=col>Purchased</th></tr>\n",
       "\t<tr><th></th><th scope=col>&lt;chr&gt;</th><th scope=col>&lt;dbl&gt;</th><th scope=col>&lt;dbl&gt;</th><th scope=col>&lt;chr&gt;</th></tr>\n",
       "</thead>\n",
       "<tbody>\n",
       "\t<tr><th scope=row>6</th><td>France </td><td>-0.7071068</td><td>-0.7071068</td><td>Yes</td></tr>\n",
       "\t<tr><th scope=row>9</th><td>Germany</td><td> 0.7071068</td><td> 0.7071068</td><td>No </td></tr>\n",
       "</tbody>\n",
       "</table>\n"
      ],
      "text/latex": [
       "A data.frame: 2 × 4\n",
       "\\begin{tabular}{r|llll}\n",
       "  & Country & Age & Salary & Purchased\\\\\n",
       "  & <chr> & <dbl> & <dbl> & <chr>\\\\\n",
       "\\hline\n",
       "\t6 & France  & -0.7071068 & -0.7071068 & Yes\\\\\n",
       "\t9 & Germany &  0.7071068 &  0.7071068 & No \\\\\n",
       "\\end{tabular}\n"
      ],
      "text/markdown": [
       "\n",
       "A data.frame: 2 × 4\n",
       "\n",
       "| <!--/--> | Country &lt;chr&gt; | Age &lt;dbl&gt; | Salary &lt;dbl&gt; | Purchased &lt;chr&gt; |\n",
       "|---|---|---|---|---|\n",
       "| 6 | France  | -0.7071068 | -0.7071068 | Yes |\n",
       "| 9 | Germany |  0.7071068 |  0.7071068 | No  |\n",
       "\n"
      ],
      "text/plain": [
       "  Country Age        Salary     Purchased\n",
       "6 France  -0.7071068 -0.7071068 Yes      \n",
       "9 Germany  0.7071068  0.7071068 No       "
      ]
     },
     "metadata": {},
     "output_type": "display_data"
    }
   ],
   "source": [
    "testing_set"
   ]
  },
  {
   "cell_type": "code",
   "execution_count": null,
   "metadata": {
    "vscode": {
     "languageId": "r"
    }
   },
   "outputs": [],
   "source": []
  }
 ],
 "metadata": {
  "kernelspec": {
   "display_name": "R",
   "language": "R",
   "name": "ir"
  },
  "language_info": {
   "codemirror_mode": "r",
   "file_extension": ".r",
   "mimetype": "text/x-r-source",
   "name": "R",
   "pygments_lexer": "r",
   "version": "4.3.1"
  },
  "orig_nbformat": 4
 },
 "nbformat": 4,
 "nbformat_minor": 2
}
