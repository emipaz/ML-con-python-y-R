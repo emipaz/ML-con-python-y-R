{
 "cells": [
  {
   "cell_type": "markdown",
   "metadata": {},
   "source": [
    "# Plantilla para el Pre Procesado de Datos - Datos faltantes\n"
   ]
  },
  {
   "cell_type": "code",
   "execution_count": 1,
   "metadata": {
    "vscode": {
     "languageId": "r"
    }
   },
   "outputs": [
    {
     "data": {
      "text/html": [
       "<table class=\"dataframe\">\n",
       "<caption>A data.frame: 10 × 4</caption>\n",
       "<thead>\n",
       "\t<tr><th scope=col>Country</th><th scope=col>Age</th><th scope=col>Salary</th><th scope=col>Purchased</th></tr>\n",
       "\t<tr><th scope=col>&lt;chr&gt;</th><th scope=col>&lt;int&gt;</th><th scope=col>&lt;int&gt;</th><th scope=col>&lt;chr&gt;</th></tr>\n",
       "</thead>\n",
       "<tbody>\n",
       "\t<tr><td>France </td><td>44</td><td>72000</td><td>No </td></tr>\n",
       "\t<tr><td>Spain  </td><td>27</td><td>48000</td><td>Yes</td></tr>\n",
       "\t<tr><td>Germany</td><td>30</td><td>54000</td><td>No </td></tr>\n",
       "\t<tr><td>Spain  </td><td>38</td><td>61000</td><td>No </td></tr>\n",
       "\t<tr><td>Germany</td><td>40</td><td>   NA</td><td>Yes</td></tr>\n",
       "\t<tr><td>France </td><td>35</td><td>58000</td><td>Yes</td></tr>\n",
       "\t<tr><td>Spain  </td><td>NA</td><td>52000</td><td>No </td></tr>\n",
       "\t<tr><td>France </td><td>48</td><td>79000</td><td>Yes</td></tr>\n",
       "\t<tr><td>Germany</td><td>50</td><td>83000</td><td>No </td></tr>\n",
       "\t<tr><td>France </td><td>37</td><td>67000</td><td>Yes</td></tr>\n",
       "</tbody>\n",
       "</table>\n"
      ],
      "text/latex": [
       "A data.frame: 10 × 4\n",
       "\\begin{tabular}{llll}\n",
       " Country & Age & Salary & Purchased\\\\\n",
       " <chr> & <int> & <int> & <chr>\\\\\n",
       "\\hline\n",
       "\t France  & 44 & 72000 & No \\\\\n",
       "\t Spain   & 27 & 48000 & Yes\\\\\n",
       "\t Germany & 30 & 54000 & No \\\\\n",
       "\t Spain   & 38 & 61000 & No \\\\\n",
       "\t Germany & 40 &    NA & Yes\\\\\n",
       "\t France  & 35 & 58000 & Yes\\\\\n",
       "\t Spain   & NA & 52000 & No \\\\\n",
       "\t France  & 48 & 79000 & Yes\\\\\n",
       "\t Germany & 50 & 83000 & No \\\\\n",
       "\t France  & 37 & 67000 & Yes\\\\\n",
       "\\end{tabular}\n"
      ],
      "text/markdown": [
       "\n",
       "A data.frame: 10 × 4\n",
       "\n",
       "| Country &lt;chr&gt; | Age &lt;int&gt; | Salary &lt;int&gt; | Purchased &lt;chr&gt; |\n",
       "|---|---|---|---|\n",
       "| France  | 44 | 72000 | No  |\n",
       "| Spain   | 27 | 48000 | Yes |\n",
       "| Germany | 30 | 54000 | No  |\n",
       "| Spain   | 38 | 61000 | No  |\n",
       "| Germany | 40 |    NA | Yes |\n",
       "| France  | 35 | 58000 | Yes |\n",
       "| Spain   | NA | 52000 | No  |\n",
       "| France  | 48 | 79000 | Yes |\n",
       "| Germany | 50 | 83000 | No  |\n",
       "| France  | 37 | 67000 | Yes |\n",
       "\n"
      ],
      "text/plain": [
       "   Country Age Salary Purchased\n",
       "1  France  44  72000  No       \n",
       "2  Spain   27  48000  Yes      \n",
       "3  Germany 30  54000  No       \n",
       "4  Spain   38  61000  No       \n",
       "5  Germany 40     NA  Yes      \n",
       "6  France  35  58000  Yes      \n",
       "7  Spain   NA  52000  No       \n",
       "8  France  48  79000  Yes      \n",
       "9  Germany 50  83000  No       \n",
       "10 France  37  67000  Yes      "
      ]
     },
     "metadata": {},
     "output_type": "display_data"
    }
   ],
   "source": [
    "\n",
    "dataset = read.csv('Data.csv')\n",
    "\n",
    "dataset"
   ]
  },
  {
   "cell_type": "code",
   "execution_count": 2,
   "metadata": {
    "vscode": {
     "languageId": "r"
    }
   },
   "outputs": [
    {
     "data": {
      "text/html": [
       "<table class=\"dataframe\">\n",
       "<caption>A data.frame: 10 × 4</caption>\n",
       "<thead>\n",
       "\t<tr><th scope=col>Country</th><th scope=col>Age</th><th scope=col>Salary</th><th scope=col>Purchased</th></tr>\n",
       "\t<tr><th scope=col>&lt;chr&gt;</th><th scope=col>&lt;dbl&gt;</th><th scope=col>&lt;int&gt;</th><th scope=col>&lt;chr&gt;</th></tr>\n",
       "</thead>\n",
       "<tbody>\n",
       "\t<tr><td>France </td><td>44.00000</td><td>72000</td><td>No </td></tr>\n",
       "\t<tr><td>Spain  </td><td>27.00000</td><td>48000</td><td>Yes</td></tr>\n",
       "\t<tr><td>Germany</td><td>30.00000</td><td>54000</td><td>No </td></tr>\n",
       "\t<tr><td>Spain  </td><td>38.00000</td><td>61000</td><td>No </td></tr>\n",
       "\t<tr><td>Germany</td><td>40.00000</td><td>   NA</td><td>Yes</td></tr>\n",
       "\t<tr><td>France </td><td>35.00000</td><td>58000</td><td>Yes</td></tr>\n",
       "\t<tr><td>Spain  </td><td>38.77778</td><td>52000</td><td>No </td></tr>\n",
       "\t<tr><td>France </td><td>48.00000</td><td>79000</td><td>Yes</td></tr>\n",
       "\t<tr><td>Germany</td><td>50.00000</td><td>83000</td><td>No </td></tr>\n",
       "\t<tr><td>France </td><td>37.00000</td><td>67000</td><td>Yes</td></tr>\n",
       "</tbody>\n",
       "</table>\n"
      ],
      "text/latex": [
       "A data.frame: 10 × 4\n",
       "\\begin{tabular}{llll}\n",
       " Country & Age & Salary & Purchased\\\\\n",
       " <chr> & <dbl> & <int> & <chr>\\\\\n",
       "\\hline\n",
       "\t France  & 44.00000 & 72000 & No \\\\\n",
       "\t Spain   & 27.00000 & 48000 & Yes\\\\\n",
       "\t Germany & 30.00000 & 54000 & No \\\\\n",
       "\t Spain   & 38.00000 & 61000 & No \\\\\n",
       "\t Germany & 40.00000 &    NA & Yes\\\\\n",
       "\t France  & 35.00000 & 58000 & Yes\\\\\n",
       "\t Spain   & 38.77778 & 52000 & No \\\\\n",
       "\t France  & 48.00000 & 79000 & Yes\\\\\n",
       "\t Germany & 50.00000 & 83000 & No \\\\\n",
       "\t France  & 37.00000 & 67000 & Yes\\\\\n",
       "\\end{tabular}\n"
      ],
      "text/markdown": [
       "\n",
       "A data.frame: 10 × 4\n",
       "\n",
       "| Country &lt;chr&gt; | Age &lt;dbl&gt; | Salary &lt;int&gt; | Purchased &lt;chr&gt; |\n",
       "|---|---|---|---|\n",
       "| France  | 44.00000 | 72000 | No  |\n",
       "| Spain   | 27.00000 | 48000 | Yes |\n",
       "| Germany | 30.00000 | 54000 | No  |\n",
       "| Spain   | 38.00000 | 61000 | No  |\n",
       "| Germany | 40.00000 |    NA | Yes |\n",
       "| France  | 35.00000 | 58000 | Yes |\n",
       "| Spain   | 38.77778 | 52000 | No  |\n",
       "| France  | 48.00000 | 79000 | Yes |\n",
       "| Germany | 50.00000 | 83000 | No  |\n",
       "| France  | 37.00000 | 67000 | Yes |\n",
       "\n"
      ],
      "text/plain": [
       "   Country Age      Salary Purchased\n",
       "1  France  44.00000 72000  No       \n",
       "2  Spain   27.00000 48000  Yes      \n",
       "3  Germany 30.00000 54000  No       \n",
       "4  Spain   38.00000 61000  No       \n",
       "5  Germany 40.00000    NA  Yes      \n",
       "6  France  35.00000 58000  Yes      \n",
       "7  Spain   38.77778 52000  No       \n",
       "8  France  48.00000 79000  Yes      \n",
       "9  Germany 50.00000 83000  No       \n",
       "10 France  37.00000 67000  Yes      "
      ]
     },
     "metadata": {},
     "output_type": "display_data"
    }
   ],
   "source": [
    "\n",
    "# Tratamiento de los valores NA\n",
    "dataset$Age = ifelse(is.na(dataset$Age),\n",
    "                     ave(dataset$Age, FUN = function(x) mean(x, na.rm = TRUE)),\n",
    "                     dataset$Age)\n",
    "                     \n",
    "dataset"
   ]
  },
  {
   "cell_type": "markdown",
   "metadata": {},
   "source": [
    "El código trata los valores NA en la variable \"Age\" de un conjunto de datos llamado \"dataset\". \n",
    "\n",
    "El código utiliza la función \"ifelse\" para verificar si cada valor de la variable \"Age\" es NA. Si es así, se reemplaza ese valor NA con la media de todos los valores de la variable \"Age\" que no sean NA. Si el valor no es NA, se mantiene sin cambios.\n",
    "\n",
    "Paso a paso, el código hace lo siguiente:\n",
    "\n",
    "1. Verifica si cada valor de la variable \"Age\" en el conjunto de datos \"dataset\" es NA.\n",
    "2. Si el valor es NA, se ejecuta el siguiente bloque de código:\n",
    "   - Utiliza la función \"ave\" para calcular la media de todos los valores de la variable \"Age\" que no sean NA. La opción \"na.rm = TRUE\" se utiliza para ignorar los valores NA al calcular la media.\n",
    "   - Reemplaza el valor NA con la media calculada.\n",
    "3. Si el valor no es NA, se mantiene sin cambios.\n",
    "\n",
    "En resumen, el código reemplaza los valores NA en la variable \"Age\" del conjunto de datos \"dataset\" con la media de los valores no NA de esa variable."
   ]
  },
  {
   "cell_type": "code",
   "execution_count": null,
   "metadata": {
    "vscode": {
     "languageId": "r"
    }
   },
   "outputs": [],
   "source": [
    "dataset$Salary = ifelse(is.na(dataset$Salary),\n",
    "                        ave(dataset$Salary, FUN = function(x) mean(x, na.rm = TRUE)),\n",
    "                        dataset$Salary)\n"
   ]
  },
  {
   "cell_type": "markdown",
   "metadata": {},
   "source": [
    "El código anterior asigna un valor promedio a las celdas vacías en la columna \"Salary\" del conjunto de datos \"dataset\".\n",
    "\n",
    "Explicación paso a paso del código:\n",
    "1.  `dataset$Salary` : Accede a la columna \"Salary\" del conjunto de datos \"dataset\".\n",
    "2.  `is.na(dataset$Salary)` : Verifica si cada celda de la columna \"Salary\" está vacía o no. Devuelve un vector lógico con valores TRUE o FALSE.\n",
    "3.  `ave(dataset$Salary, FUN = function(x) mean(x, na.rm = TRUE))` : Calcula el promedio de los valores no vacíos en la columna \"Salary\" utilizando la función  `mean()` . La función  `ave()`  se utiliza para aplicar la función  `mean()`  a cada grupo de valores (en este caso, todos los valores no vacíos en la columna \"Salary\").\n",
    "4.  `ifelse()` : Esta función condicional asigna un valor promedio a las celdas vacías en la columna \"Salary\" si la condición  `is.na(dataset$Salary)`  es verdadera, de lo contrario, mantiene el valor existente en esas celdas.\n",
    "5.  `dataset$Salary = ...` : Asigna el resultado de la función  `ifelse()`  a la columna \"Salary\" del conjunto de datos \"dataset\".\n",
    "\n",
    "En resumen, el código reemplaza los valores vacíos en la columna \"Salary\" del conjunto de datos \"dataset\" con el promedio de los valores no vacíos en esa columna."
   ]
  },
  {
   "cell_type": "code",
   "execution_count": 3,
   "metadata": {
    "vscode": {
     "languageId": "r"
    }
   },
   "outputs": [
    {
     "data": {
      "text/html": [
       "<table class=\"dataframe\">\n",
       "<caption>A data.frame: 10 × 4</caption>\n",
       "<thead>\n",
       "\t<tr><th scope=col>Country</th><th scope=col>Age</th><th scope=col>Salary</th><th scope=col>Purchased</th></tr>\n",
       "\t<tr><th scope=col>&lt;chr&gt;</th><th scope=col>&lt;dbl&gt;</th><th scope=col>&lt;int&gt;</th><th scope=col>&lt;chr&gt;</th></tr>\n",
       "</thead>\n",
       "<tbody>\n",
       "\t<tr><td>France </td><td>44.00000</td><td>72000</td><td>No </td></tr>\n",
       "\t<tr><td>Spain  </td><td>27.00000</td><td>48000</td><td>Yes</td></tr>\n",
       "\t<tr><td>Germany</td><td>30.00000</td><td>54000</td><td>No </td></tr>\n",
       "\t<tr><td>Spain  </td><td>38.00000</td><td>61000</td><td>No </td></tr>\n",
       "\t<tr><td>Germany</td><td>40.00000</td><td>   NA</td><td>Yes</td></tr>\n",
       "\t<tr><td>France </td><td>35.00000</td><td>58000</td><td>Yes</td></tr>\n",
       "\t<tr><td>Spain  </td><td>38.77778</td><td>52000</td><td>No </td></tr>\n",
       "\t<tr><td>France </td><td>48.00000</td><td>79000</td><td>Yes</td></tr>\n",
       "\t<tr><td>Germany</td><td>50.00000</td><td>83000</td><td>No </td></tr>\n",
       "\t<tr><td>France </td><td>37.00000</td><td>67000</td><td>Yes</td></tr>\n",
       "</tbody>\n",
       "</table>\n"
      ],
      "text/latex": [
       "A data.frame: 10 × 4\n",
       "\\begin{tabular}{llll}\n",
       " Country & Age & Salary & Purchased\\\\\n",
       " <chr> & <dbl> & <int> & <chr>\\\\\n",
       "\\hline\n",
       "\t France  & 44.00000 & 72000 & No \\\\\n",
       "\t Spain   & 27.00000 & 48000 & Yes\\\\\n",
       "\t Germany & 30.00000 & 54000 & No \\\\\n",
       "\t Spain   & 38.00000 & 61000 & No \\\\\n",
       "\t Germany & 40.00000 &    NA & Yes\\\\\n",
       "\t France  & 35.00000 & 58000 & Yes\\\\\n",
       "\t Spain   & 38.77778 & 52000 & No \\\\\n",
       "\t France  & 48.00000 & 79000 & Yes\\\\\n",
       "\t Germany & 50.00000 & 83000 & No \\\\\n",
       "\t France  & 37.00000 & 67000 & Yes\\\\\n",
       "\\end{tabular}\n"
      ],
      "text/markdown": [
       "\n",
       "A data.frame: 10 × 4\n",
       "\n",
       "| Country &lt;chr&gt; | Age &lt;dbl&gt; | Salary &lt;int&gt; | Purchased &lt;chr&gt; |\n",
       "|---|---|---|---|\n",
       "| France  | 44.00000 | 72000 | No  |\n",
       "| Spain   | 27.00000 | 48000 | Yes |\n",
       "| Germany | 30.00000 | 54000 | No  |\n",
       "| Spain   | 38.00000 | 61000 | No  |\n",
       "| Germany | 40.00000 |    NA | Yes |\n",
       "| France  | 35.00000 | 58000 | Yes |\n",
       "| Spain   | 38.77778 | 52000 | No  |\n",
       "| France  | 48.00000 | 79000 | Yes |\n",
       "| Germany | 50.00000 | 83000 | No  |\n",
       "| France  | 37.00000 | 67000 | Yes |\n",
       "\n"
      ],
      "text/plain": [
       "   Country Age      Salary Purchased\n",
       "1  France  44.00000 72000  No       \n",
       "2  Spain   27.00000 48000  Yes      \n",
       "3  Germany 30.00000 54000  No       \n",
       "4  Spain   38.00000 61000  No       \n",
       "5  Germany 40.00000    NA  Yes      \n",
       "6  France  35.00000 58000  Yes      \n",
       "7  Spain   38.77778 52000  No       \n",
       "8  France  48.00000 79000  Yes      \n",
       "9  Germany 50.00000 83000  No       \n",
       "10 France  37.00000 67000  Yes      "
      ]
     },
     "metadata": {},
     "output_type": "display_data"
    }
   ],
   "source": [
    "dataset"
   ]
  },
  {
   "cell_type": "markdown",
   "metadata": {},
   "source": []
  }
 ],
 "metadata": {
  "kernelspec": {
   "display_name": "R",
   "language": "R",
   "name": "ir"
  },
  "language_info": {
   "codemirror_mode": "r",
   "file_extension": ".r",
   "mimetype": "text/x-r-source",
   "name": "R",
   "pygments_lexer": "r",
   "version": "4.3.1"
  },
  "orig_nbformat": 4
 },
 "nbformat": 4,
 "nbformat_minor": 2
}
