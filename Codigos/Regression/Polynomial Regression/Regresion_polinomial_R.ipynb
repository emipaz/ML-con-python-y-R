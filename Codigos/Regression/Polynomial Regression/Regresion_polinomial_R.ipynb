{
 "cells": [
  {
   "cell_type": "markdown",
   "metadata": {},
   "source": [
    "# Regresión Polinómica"
   ]
  },
  {
   "cell_type": "code",
   "execution_count": 45,
   "metadata": {},
   "outputs": [],
   "source": [
    "# Importar el dataset\n",
    "dataset = read.csv('Position_Salaries.csv')\n",
    "dataset = dataset[, 2:3]"
   ]
  },
  {
   "cell_type": "code",
   "execution_count": 46,
   "metadata": {},
   "outputs": [
    {
     "data": {
      "text/html": [
       "<table class=\"dataframe\">\n",
       "<caption>A data.frame: 10 × 2</caption>\n",
       "<thead>\n",
       "\t<tr><th scope=col>Level</th><th scope=col>Salary</th></tr>\n",
       "\t<tr><th scope=col>&lt;int&gt;</th><th scope=col>&lt;int&gt;</th></tr>\n",
       "</thead>\n",
       "<tbody>\n",
       "\t<tr><td> 1</td><td>  45000</td></tr>\n",
       "\t<tr><td> 2</td><td>  50000</td></tr>\n",
       "\t<tr><td> 3</td><td>  60000</td></tr>\n",
       "\t<tr><td> 4</td><td>  80000</td></tr>\n",
       "\t<tr><td> 5</td><td> 110000</td></tr>\n",
       "\t<tr><td> 6</td><td> 150000</td></tr>\n",
       "\t<tr><td> 7</td><td> 200000</td></tr>\n",
       "\t<tr><td> 8</td><td> 300000</td></tr>\n",
       "\t<tr><td> 9</td><td> 500000</td></tr>\n",
       "\t<tr><td>10</td><td>1000000</td></tr>\n",
       "</tbody>\n",
       "</table>\n"
      ],
      "text/latex": [
       "A data.frame: 10 × 2\n",
       "\\begin{tabular}{ll}\n",
       " Level & Salary\\\\\n",
       " <int> & <int>\\\\\n",
       "\\hline\n",
       "\t  1 &   45000\\\\\n",
       "\t  2 &   50000\\\\\n",
       "\t  3 &   60000\\\\\n",
       "\t  4 &   80000\\\\\n",
       "\t  5 &  110000\\\\\n",
       "\t  6 &  150000\\\\\n",
       "\t  7 &  200000\\\\\n",
       "\t  8 &  300000\\\\\n",
       "\t  9 &  500000\\\\\n",
       "\t 10 & 1000000\\\\\n",
       "\\end{tabular}\n"
      ],
      "text/markdown": [
       "\n",
       "A data.frame: 10 × 2\n",
       "\n",
       "| Level &lt;int&gt; | Salary &lt;int&gt; |\n",
       "|---|---|\n",
       "|  1 |   45000 |\n",
       "|  2 |   50000 |\n",
       "|  3 |   60000 |\n",
       "|  4 |   80000 |\n",
       "|  5 |  110000 |\n",
       "|  6 |  150000 |\n",
       "|  7 |  200000 |\n",
       "|  8 |  300000 |\n",
       "|  9 |  500000 |\n",
       "| 10 | 1000000 |\n",
       "\n"
      ],
      "text/plain": [
       "   Level Salary \n",
       "1   1      45000\n",
       "2   2      50000\n",
       "3   3      60000\n",
       "4   4      80000\n",
       "5   5     110000\n",
       "6   6     150000\n",
       "7   7     200000\n",
       "8   8     300000\n",
       "9   9     500000\n",
       "10 10    1000000"
      ]
     },
     "metadata": {},
     "output_type": "display_data"
    }
   ],
   "source": [
    "dataset"
   ]
  },
  {
   "cell_type": "code",
   "execution_count": 47,
   "metadata": {},
   "outputs": [],
   "source": [
    "# Dividir los datos en conjunto de entrenamiento y conjunto de test\n",
    "# install.packages(\"caTools\")\n",
    "# library(caTools)\n",
    "# set.seed(123)\n",
    "# split = sample.split(dataset$Purchased, SplitRatio = 0.8)\n",
    "# training_set = subset(dataset, split == TRUE)\n",
    "# testing_set = subset(dataset, split == FALSE)\n"
   ]
  },
  {
   "cell_type": "code",
   "execution_count": 48,
   "metadata": {},
   "outputs": [],
   "source": [
    "# Escalado de valores\n",
    "# training_set[,2:3] = scale(training_set[,2:3])\n",
    "# testing_set[,2:3] = scale(testing_set[,2:3])"
   ]
  },
  {
   "cell_type": "code",
   "execution_count": 49,
   "metadata": {},
   "outputs": [],
   "source": [
    "lin_reg = lm(formula = Salary ~ ., \n",
    "             data = dataset)"
   ]
  },
  {
   "cell_type": "code",
   "execution_count": 50,
   "metadata": {},
   "outputs": [
    {
     "data": {
      "text/plain": [
       "\n",
       "Call:\n",
       "lm(formula = Salary ~ ., data = dataset)\n",
       "\n",
       "Coefficients:\n",
       "(Intercept)        Level  \n",
       "    -195333        80879  \n"
      ]
     },
     "metadata": {},
     "output_type": "display_data"
    }
   ],
   "source": [
    "lin_reg"
   ]
  },
  {
   "cell_type": "code",
   "execution_count": 53,
   "metadata": {},
   "outputs": [
    {
     "data": {
      "text/plain": [
       "\n",
       "Call:\n",
       "lm(formula = Salary ~ ., data = dataset)\n",
       "\n",
       "Residuals:\n",
       "    Min      1Q  Median      3Q     Max \n",
       "-170818 -129720  -40379   65856  386545 \n",
       "\n",
       "Coefficients:\n",
       "            Estimate Std. Error t value Pr(>|t|)   \n",
       "(Intercept)  -195333     124790  -1.565  0.15615   \n",
       "Level          80879      20112   4.021  0.00383 **\n",
       "---\n",
       "Signif. codes:  0 ‘***’ 0.001 ‘**’ 0.01 ‘*’ 0.05 ‘.’ 0.1 ‘ ’ 1\n",
       "\n",
       "Residual standard error: 182700 on 8 degrees of freedom\n",
       "Multiple R-squared:  0.669,\tAdjusted R-squared:  0.6277 \n",
       "F-statistic: 16.17 on 1 and 8 DF,  p-value: 0.003833\n"
      ]
     },
     "metadata": {},
     "output_type": "display_data"
    }
   ],
   "source": [
    "summary(lin_reg)"
   ]
  },
  {
   "cell_type": "code",
   "execution_count": 54,
   "metadata": {},
   "outputs": [],
   "source": [
    "dataset$Level2 = dataset$Level^2"
   ]
  },
  {
   "cell_type": "code",
   "execution_count": 55,
   "metadata": {},
   "outputs": [
    {
     "data": {
      "text/html": [
       "<table class=\"dataframe\">\n",
       "<caption>A data.frame: 10 × 3</caption>\n",
       "<thead>\n",
       "\t<tr><th scope=col>Level</th><th scope=col>Salary</th><th scope=col>Level2</th></tr>\n",
       "\t<tr><th scope=col>&lt;int&gt;</th><th scope=col>&lt;int&gt;</th><th scope=col>&lt;dbl&gt;</th></tr>\n",
       "</thead>\n",
       "<tbody>\n",
       "\t<tr><td> 1</td><td>  45000</td><td>  1</td></tr>\n",
       "\t<tr><td> 2</td><td>  50000</td><td>  4</td></tr>\n",
       "\t<tr><td> 3</td><td>  60000</td><td>  9</td></tr>\n",
       "\t<tr><td> 4</td><td>  80000</td><td> 16</td></tr>\n",
       "\t<tr><td> 5</td><td> 110000</td><td> 25</td></tr>\n",
       "\t<tr><td> 6</td><td> 150000</td><td> 36</td></tr>\n",
       "\t<tr><td> 7</td><td> 200000</td><td> 49</td></tr>\n",
       "\t<tr><td> 8</td><td> 300000</td><td> 64</td></tr>\n",
       "\t<tr><td> 9</td><td> 500000</td><td> 81</td></tr>\n",
       "\t<tr><td>10</td><td>1000000</td><td>100</td></tr>\n",
       "</tbody>\n",
       "</table>\n"
      ],
      "text/latex": [
       "A data.frame: 10 × 3\n",
       "\\begin{tabular}{lll}\n",
       " Level & Salary & Level2\\\\\n",
       " <int> & <int> & <dbl>\\\\\n",
       "\\hline\n",
       "\t  1 &   45000 &   1\\\\\n",
       "\t  2 &   50000 &   4\\\\\n",
       "\t  3 &   60000 &   9\\\\\n",
       "\t  4 &   80000 &  16\\\\\n",
       "\t  5 &  110000 &  25\\\\\n",
       "\t  6 &  150000 &  36\\\\\n",
       "\t  7 &  200000 &  49\\\\\n",
       "\t  8 &  300000 &  64\\\\\n",
       "\t  9 &  500000 &  81\\\\\n",
       "\t 10 & 1000000 & 100\\\\\n",
       "\\end{tabular}\n"
      ],
      "text/markdown": [
       "\n",
       "A data.frame: 10 × 3\n",
       "\n",
       "| Level &lt;int&gt; | Salary &lt;int&gt; | Level2 &lt;dbl&gt; |\n",
       "|---|---|---|\n",
       "|  1 |   45000 |   1 |\n",
       "|  2 |   50000 |   4 |\n",
       "|  3 |   60000 |   9 |\n",
       "|  4 |   80000 |  16 |\n",
       "|  5 |  110000 |  25 |\n",
       "|  6 |  150000 |  36 |\n",
       "|  7 |  200000 |  49 |\n",
       "|  8 |  300000 |  64 |\n",
       "|  9 |  500000 |  81 |\n",
       "| 10 | 1000000 | 100 |\n",
       "\n"
      ],
      "text/plain": [
       "   Level Salary  Level2\n",
       "1   1      45000   1   \n",
       "2   2      50000   4   \n",
       "3   3      60000   9   \n",
       "4   4      80000  16   \n",
       "5   5     110000  25   \n",
       "6   6     150000  36   \n",
       "7   7     200000  49   \n",
       "8   8     300000  64   \n",
       "9   9     500000  81   \n",
       "10 10    1000000 100   "
      ]
     },
     "metadata": {},
     "output_type": "display_data"
    }
   ],
   "source": [
    "dataset"
   ]
  },
  {
   "cell_type": "code",
   "execution_count": 56,
   "metadata": {},
   "outputs": [],
   "source": [
    "dataset$Level3 = dataset$Level^3\n",
    "dataset$Level4 = dataset$Level^4"
   ]
  },
  {
   "cell_type": "code",
   "execution_count": 57,
   "metadata": {},
   "outputs": [
    {
     "data": {
      "text/html": [
       "<table class=\"dataframe\">\n",
       "<caption>A data.frame: 10 × 5</caption>\n",
       "<thead>\n",
       "\t<tr><th scope=col>Level</th><th scope=col>Salary</th><th scope=col>Level2</th><th scope=col>Level3</th><th scope=col>Level4</th></tr>\n",
       "\t<tr><th scope=col>&lt;int&gt;</th><th scope=col>&lt;int&gt;</th><th scope=col>&lt;dbl&gt;</th><th scope=col>&lt;dbl&gt;</th><th scope=col>&lt;dbl&gt;</th></tr>\n",
       "</thead>\n",
       "<tbody>\n",
       "\t<tr><td> 1</td><td>  45000</td><td>  1</td><td>   1</td><td>    1</td></tr>\n",
       "\t<tr><td> 2</td><td>  50000</td><td>  4</td><td>   8</td><td>   16</td></tr>\n",
       "\t<tr><td> 3</td><td>  60000</td><td>  9</td><td>  27</td><td>   81</td></tr>\n",
       "\t<tr><td> 4</td><td>  80000</td><td> 16</td><td>  64</td><td>  256</td></tr>\n",
       "\t<tr><td> 5</td><td> 110000</td><td> 25</td><td> 125</td><td>  625</td></tr>\n",
       "\t<tr><td> 6</td><td> 150000</td><td> 36</td><td> 216</td><td> 1296</td></tr>\n",
       "\t<tr><td> 7</td><td> 200000</td><td> 49</td><td> 343</td><td> 2401</td></tr>\n",
       "\t<tr><td> 8</td><td> 300000</td><td> 64</td><td> 512</td><td> 4096</td></tr>\n",
       "\t<tr><td> 9</td><td> 500000</td><td> 81</td><td> 729</td><td> 6561</td></tr>\n",
       "\t<tr><td>10</td><td>1000000</td><td>100</td><td>1000</td><td>10000</td></tr>\n",
       "</tbody>\n",
       "</table>\n"
      ],
      "text/latex": [
       "A data.frame: 10 × 5\n",
       "\\begin{tabular}{lllll}\n",
       " Level & Salary & Level2 & Level3 & Level4\\\\\n",
       " <int> & <int> & <dbl> & <dbl> & <dbl>\\\\\n",
       "\\hline\n",
       "\t  1 &   45000 &   1 &    1 &     1\\\\\n",
       "\t  2 &   50000 &   4 &    8 &    16\\\\\n",
       "\t  3 &   60000 &   9 &   27 &    81\\\\\n",
       "\t  4 &   80000 &  16 &   64 &   256\\\\\n",
       "\t  5 &  110000 &  25 &  125 &   625\\\\\n",
       "\t  6 &  150000 &  36 &  216 &  1296\\\\\n",
       "\t  7 &  200000 &  49 &  343 &  2401\\\\\n",
       "\t  8 &  300000 &  64 &  512 &  4096\\\\\n",
       "\t  9 &  500000 &  81 &  729 &  6561\\\\\n",
       "\t 10 & 1000000 & 100 & 1000 & 10000\\\\\n",
       "\\end{tabular}\n"
      ],
      "text/markdown": [
       "\n",
       "A data.frame: 10 × 5\n",
       "\n",
       "| Level &lt;int&gt; | Salary &lt;int&gt; | Level2 &lt;dbl&gt; | Level3 &lt;dbl&gt; | Level4 &lt;dbl&gt; |\n",
       "|---|---|---|---|---|\n",
       "|  1 |   45000 |   1 |    1 |     1 |\n",
       "|  2 |   50000 |   4 |    8 |    16 |\n",
       "|  3 |   60000 |   9 |   27 |    81 |\n",
       "|  4 |   80000 |  16 |   64 |   256 |\n",
       "|  5 |  110000 |  25 |  125 |   625 |\n",
       "|  6 |  150000 |  36 |  216 |  1296 |\n",
       "|  7 |  200000 |  49 |  343 |  2401 |\n",
       "|  8 |  300000 |  64 |  512 |  4096 |\n",
       "|  9 |  500000 |  81 |  729 |  6561 |\n",
       "| 10 | 1000000 | 100 | 1000 | 10000 |\n",
       "\n"
      ],
      "text/plain": [
       "   Level Salary  Level2 Level3 Level4\n",
       "1   1      45000   1       1       1 \n",
       "2   2      50000   4       8      16 \n",
       "3   3      60000   9      27      81 \n",
       "4   4      80000  16      64     256 \n",
       "5   5     110000  25     125     625 \n",
       "6   6     150000  36     216    1296 \n",
       "7   7     200000  49     343    2401 \n",
       "8   8     300000  64     512    4096 \n",
       "9   9     500000  81     729    6561 \n",
       "10 10    1000000 100    1000   10000 "
      ]
     },
     "metadata": {},
     "output_type": "display_data"
    }
   ],
   "source": [
    "dataset"
   ]
  },
  {
   "cell_type": "code",
   "execution_count": 58,
   "metadata": {},
   "outputs": [],
   "source": [
    "poly_reg = lm(formula = Salary ~ .,\n",
    "              data = dataset)"
   ]
  },
  {
   "cell_type": "code",
   "execution_count": 59,
   "metadata": {},
   "outputs": [
    {
     "data": {
      "text/plain": [
       "\n",
       "Call:\n",
       "lm(formula = Salary ~ ., data = dataset)\n",
       "\n",
       "Residuals:\n",
       "     1      2      3      4      5      6      7      8      9     10 \n",
       " -8357  18240   1358 -14633 -11725   6725  15997  10006 -28695  11084 \n",
       "\n",
       "Coefficients:\n",
       "             Estimate Std. Error t value Pr(>|t|)   \n",
       "(Intercept)  184166.7    67768.0   2.718  0.04189 * \n",
       "Level       -211002.3    76382.2  -2.762  0.03972 * \n",
       "Level2        94765.4    26454.2   3.582  0.01584 * \n",
       "Level3       -15463.3     3535.0  -4.374  0.00719 **\n",
       "Level4          890.2      159.8   5.570  0.00257 **\n",
       "---\n",
       "Signif. codes:  0 ‘***’ 0.001 ‘**’ 0.01 ‘*’ 0.05 ‘.’ 0.1 ‘ ’ 1\n",
       "\n",
       "Residual standard error: 20510 on 5 degrees of freedom\n",
       "Multiple R-squared:  0.9974,\tAdjusted R-squared:  0.9953 \n",
       "F-statistic: 478.1 on 4 and 5 DF,  p-value: 1.213e-06\n"
      ]
     },
     "metadata": {},
     "output_type": "display_data"
    }
   ],
   "source": [
    "summary(poly_reg)"
   ]
  },
  {
   "cell_type": "code",
   "execution_count": 62,
   "metadata": {},
   "outputs": [
    {
     "data": {
      "image/png": "[encoded data removed]",
      "text/plain": [
       "plot without title"
      ]
     },
     "metadata": {
      "image/png": {
       "height": 420,
       "width": 420
      }
     },
     "output_type": "display_data"
    }
   ],
   "source": [
    "library(ggplot2)\n",
    "ggplot() +\n",
    "    geom_point(aes(x = dataset$Level , \n",
    "                   y = dataset$Salary),\n",
    "                   color = \"red\") +\n",
    "    geom_line(aes(x = dataset$Level, \n",
    "                  y = predict(lin_reg, \n",
    "            newdata = dataset)),\n",
    "            color   = \"blue\") +\n",
    "    \n",
    "ggtitle(\"Predicción lineal del suedlo en función del nivel del empleado\") +\n",
    "xlab(\"Nivel del empleado\") +\n",
    "ylab(\"Sueldo (en $)\")\n"
   ]
  },
  {
   "cell_type": "code",
   "execution_count": 61,
   "metadata": {},
   "outputs": [
    {
     "data": {
      "image/png": "[encoded data removed]",
      "text/plain": [
       "plot without title"
      ]
     },
     "metadata": {
      "image/png": {
       "height": 420,
       "width": 420
      }
     },
     "output_type": "display_data"
    }
   ],
   "source": [
    "x_grid = seq(min(dataset$Level), max(dataset$Level), 0.1)\n",
    "ggplot() +\n",
    "  geom_point(aes(x = dataset$Level , y = dataset$Salary),\n",
    "             color = \"red\") +\n",
    "  geom_line(aes(x = x_grid, y = predict(poly_reg, \n",
    "                                        newdata = data.frame(Level = x_grid,\n",
    "                                                             Level2 = x_grid^2,\n",
    "                                                             Level3 = x_grid^3,\n",
    "                                                             Level4 = x_grid^4))),\n",
    "            color = \"blue\") +\n",
    "  ggtitle(\"Predicción polinómica del suedlo en función del nivel del empleado\") +\n",
    "  xlab(\"Nivel del empleado\") +\n",
    "  ylab(\"Sueldo (en $)\")"
   ]
  },
  {
   "cell_type": "code",
   "execution_count": 14,
   "metadata": {},
   "outputs": [],
   "source": [
    "y_pred = predict(lin_reg, newdata = data.frame(Level = 6.5))"
   ]
  },
  {
   "cell_type": "code",
   "execution_count": 16,
   "metadata": {},
   "outputs": [
    {
     "data": {
      "text/html": [
       "<strong>1:</strong> 330378.787878788"
      ],
      "text/latex": [
       "\\textbf{1:} 330378.787878788"
      ],
      "text/markdown": [
       "**1:** 330378.787878788"
      ],
      "text/plain": [
       "       1 \n",
       "330378.8 "
      ]
     },
     "metadata": {},
     "output_type": "display_data"
    }
   ],
   "source": [
    "y_pred"
   ]
  },
  {
   "cell_type": "raw",
   "metadata": {},
   "source": []
  },
  {
   "cell_type": "code",
   "execution_count": 15,
   "metadata": {},
   "outputs": [],
   "source": [
    "# Predicción de nuevos resultados con Regresión Polinómica\n",
    "y_pred_poly = predict(poly_reg, newdata = data.frame(Level = 6.5,\n",
    "                                                Level2 = 6.5^2,\n",
    "                                                Level3 = 6.5^3,\n",
    "                                                Level4 = 6.5^4))"
   ]
  },
  {
   "cell_type": "code",
   "execution_count": 17,
   "metadata": {},
   "outputs": [
    {
     "data": {
      "text/html": [
       "<strong>1:</strong> 158862.452651514"
      ],
      "text/latex": [
       "\\textbf{1:} 158862.452651514"
      ],
      "text/markdown": [
       "**1:** 158862.452651514"
      ],
      "text/plain": [
       "       1 \n",
       "158862.5 "
      ]
     },
     "metadata": {},
     "output_type": "display_data"
    }
   ],
   "source": [
    "y_pred_poly"
   ]
  },
  {
   "cell_type": "code",
   "execution_count": null,
   "metadata": {},
   "outputs": [],
   "source": []
  }
 ],
 "metadata": {
  "kernelspec": {
   "display_name": "R",
   "language": "R",
   "name": "ir"
  },
  "language_info": {
   "codemirror_mode": "r",
   "file_extension": ".r",
   "mimetype": "text/x-r-source",
   "name": "R",
   "pygments_lexer": "r",
   "version": "4.0.5"
  }
 },
 "nbformat": 4,
 "nbformat_minor": 4
}
